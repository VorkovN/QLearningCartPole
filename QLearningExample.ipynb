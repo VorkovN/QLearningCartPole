{
  "cells": [
    {
      "cell_type": "markdown",
      "metadata": {
        "id": "view-in-github",
        "colab_type": "text"
      },
      "source": [
        "<a href=\"https://colab.research.google.com/github/VorkovN/QLearningCartPole/blob/main/QLearningExample.ipynb\" target=\"_parent\"><img src=\"https://colab.research.google.com/assets/colab-badge.svg\" alt=\"Open In Colab\"/></a>"
      ]
    },
    {
      "cell_type": "code",
      "execution_count": null,
      "metadata": {
        "colab": {
          "base_uri": "https://localhost:8080/"
        },
        "id": "Y35tu4f9lvUq",
        "outputId": "7d54deb4-f295-4fc3-df77-c828004f38ba"
      },
      "outputs": [
        {
          "name": "stdout",
          "output_type": "stream",
          "text": [
            "Looking in indexes: https://pypi.org/simple, https://us-python.pkg.dev/colab-wheels/public/simple/\n",
            "Requirement already satisfied: gym[classic_control] in /usr/local/lib/python3.7/dist-packages (0.25.2)\n",
            "Requirement already satisfied: gym-notices>=0.0.4 in /usr/local/lib/python3.7/dist-packages (from gym[classic_control]) (0.0.8)\n",
            "Requirement already satisfied: numpy>=1.18.0 in /usr/local/lib/python3.7/dist-packages (from gym[classic_control]) (1.21.6)\n",
            "Requirement already satisfied: cloudpickle>=1.2.0 in /usr/local/lib/python3.7/dist-packages (from gym[classic_control]) (1.5.0)\n",
            "Requirement already satisfied: importlib-metadata>=4.8.0 in /usr/local/lib/python3.7/dist-packages (from gym[classic_control]) (4.13.0)\n",
            "Requirement already satisfied: pygame==2.1.0 in /usr/local/lib/python3.7/dist-packages (from gym[classic_control]) (2.1.0)\n",
            "Requirement already satisfied: typing-extensions>=3.6.4 in /usr/local/lib/python3.7/dist-packages (from importlib-metadata>=4.8.0->gym[classic_control]) (4.1.1)\n",
            "Requirement already satisfied: zipp>=0.5 in /usr/local/lib/python3.7/dist-packages (from importlib-metadata>=4.8.0->gym[classic_control]) (3.10.0)\n",
            "device: cpu\n"
          ]
        },
        {
          "data": {
            "text/plain": [
              "<pyvirtualdisplay.display.Display at 0x7f5317014610>"
            ]
          },
          "execution_count": 1,
          "metadata": {},
          "output_type": "execute_result"
        }
      ],
      "source": [
        "!pip install -Uqq ipdb\n",
        "!pip install gym pyvirtualdisplay > /dev/null 2>&1\n",
        "!apt-get install -y xvfb python-opengl ffmpeg > /dev/null 2>&1\n",
        "!pip install gym[classic_control]\n",
        "%matplotlib inline\n",
        "import gym\n",
        "import torch\n",
        "import torch.nn as nn\n",
        "import torch.nn.functional as F\n",
        "import torch.optim as optim\n",
        "import ipdb\n",
        "import random, math\n",
        "from collections import defaultdict\n",
        "import numpy as np\n",
        "import matplotlib.pyplot as plt\n",
        "\n",
        "device = torch.device(\"cuda\" if torch.cuda.is_available() else \"cpu\")\n",
        "print(\"device:\", device)\n",
        "\n",
        "from IPython.display import clear_output\n",
        "from IPython import display\n",
        "from pyvirtualdisplay import Display\n",
        "d = Display(visible=0, size=(400, 300))\n",
        "d.start()"
      ]
    },
    {
      "cell_type": "code",
      "execution_count": 15,
      "metadata": {
        "colab": {
          "base_uri": "https://localhost:8080/",
          "height": 967
        },
        "id": "O-nx4Yzel2Eh",
        "outputId": "a52d61e8-ee85-47c9-f23a-335d92c3e7c9"
      },
      "outputs": [
        {
          "output_type": "stream",
          "name": "stdout",
          "text": [
            "eps = 1.2e-322 mean reward = 200.0\n",
            "alpha= 0.7\n"
          ]
        },
        {
          "output_type": "display_data",
          "data": {
            "text/plain": [
              "<Figure size 640x480 with 1 Axes>"
            ],
            "image/png": "[encoded data removed]"
          },
          "metadata": {}
        },
        {
          "output_type": "error",
          "ename": "KeyboardInterrupt",
          "evalue": "ignored",
          "traceback": [
            "\u001b[0;31m---------------------------------------------------------------------------\u001b[0m",
            "\u001b[0;31mKeyboardInterrupt\u001b[0m                         Traceback (most recent call last)",
            "\u001b[0;32m<ipython-input-15-b9a6768191c6>\u001b[0m in \u001b[0;36m<module>\u001b[0;34m\u001b[0m\n\u001b[1;32m    154\u001b[0m \u001b[0;34m\u001b[0m\u001b[0m\n\u001b[1;32m    155\u001b[0m         \u001b[0;31m# выполняем обновление стратегии\u001b[0m\u001b[0;34m\u001b[0m\u001b[0;34m\u001b[0m\u001b[0;34m\u001b[0m\u001b[0m\n\u001b[0;32m--> 156\u001b[0;31m         \u001b[0magent\u001b[0m\u001b[0;34m.\u001b[0m\u001b[0mupdate\u001b[0m\u001b[0;34m(\u001b[0m\u001b[0mstate\u001b[0m\u001b[0;34m,\u001b[0m \u001b[0maction\u001b[0m\u001b[0;34m,\u001b[0m \u001b[0mnext_s\u001b[0m\u001b[0;34m,\u001b[0m \u001b[0mreward\u001b[0m\u001b[0;34m)\u001b[0m\u001b[0;34m\u001b[0m\u001b[0;34m\u001b[0m\u001b[0m\n\u001b[0m\u001b[1;32m    157\u001b[0m \u001b[0;34m\u001b[0m\u001b[0m\n\u001b[1;32m    158\u001b[0m         \u001b[0mstate\u001b[0m \u001b[0;34m=\u001b[0m \u001b[0mnext_s\u001b[0m\u001b[0;34m\u001b[0m\u001b[0;34m\u001b[0m\u001b[0m\n",
            "\u001b[0;32m<ipython-input-15-b9a6768191c6>\u001b[0m in \u001b[0;36mupdate\u001b[0;34m(self, state_vector, action_vector, next_state_vector, reward)\u001b[0m\n\u001b[1;32m    119\u001b[0m         \u001b[0maction_cell_index\u001b[0m \u001b[0;34m=\u001b[0m \u001b[0mself\u001b[0m\u001b[0;34m.\u001b[0m\u001b[0m__get_q_index\u001b[0m\u001b[0;34m(\u001b[0m\u001b[0maction_vector\u001b[0m\u001b[0;34m,\u001b[0m \u001b[0mself\u001b[0m\u001b[0;34m.\u001b[0m\u001b[0mactions_bounds\u001b[0m\u001b[0;34m)\u001b[0m\u001b[0;34m\u001b[0m\u001b[0;34m\u001b[0m\u001b[0m\n\u001b[1;32m    120\u001b[0m         \u001b[0mstate_cell_index\u001b[0m \u001b[0;34m=\u001b[0m \u001b[0mint\u001b[0m\u001b[0;34m(\u001b[0m\u001b[0mself\u001b[0m\u001b[0;34m.\u001b[0m\u001b[0m__get_q_index\u001b[0m\u001b[0;34m(\u001b[0m\u001b[0mstate_vector\u001b[0m\u001b[0;34m,\u001b[0m \u001b[0mself\u001b[0m\u001b[0;34m.\u001b[0m\u001b[0mstates_bounds\u001b[0m\u001b[0;34m)\u001b[0m\u001b[0;34m)\u001b[0m\u001b[0;34m\u001b[0m\u001b[0;34m\u001b[0m\u001b[0m\n\u001b[0;32m--> 121\u001b[0;31m         \u001b[0mnext_state_cell_index\u001b[0m \u001b[0;34m=\u001b[0m \u001b[0mint\u001b[0m\u001b[0;34m(\u001b[0m\u001b[0mself\u001b[0m\u001b[0;34m.\u001b[0m\u001b[0m__get_q_index\u001b[0m\u001b[0;34m(\u001b[0m\u001b[0mnext_state_vector\u001b[0m\u001b[0;34m,\u001b[0m \u001b[0mself\u001b[0m\u001b[0;34m.\u001b[0m\u001b[0mstates_bounds\u001b[0m\u001b[0;34m)\u001b[0m\u001b[0;34m)\u001b[0m\u001b[0;34m\u001b[0m\u001b[0;34m\u001b[0m\u001b[0m\n\u001b[0m\u001b[1;32m    122\u001b[0m \u001b[0;34m\u001b[0m\u001b[0m\n\u001b[1;32m    123\u001b[0m         \u001b[0mmax_qvalue\u001b[0m \u001b[0;34m=\u001b[0m \u001b[0mself\u001b[0m\u001b[0;34m.\u001b[0m\u001b[0mq_table\u001b[0m\u001b[0;34m[\u001b[0m\u001b[0mnext_state_cell_index\u001b[0m\u001b[0;34m]\u001b[0m\u001b[0;34m.\u001b[0m\u001b[0mmax\u001b[0m\u001b[0;34m(\u001b[0m\u001b[0;34m)\u001b[0m\u001b[0;34m\u001b[0m\u001b[0;34m\u001b[0m\u001b[0m\n",
            "\u001b[0;32m<ipython-input-15-b9a6768191c6>\u001b[0m in \u001b[0;36m__get_q_index\u001b[0;34m(self, elements_vector, elements_bounds)\u001b[0m\n\u001b[1;32m     66\u001b[0m           \u001b[0;32mif\u001b[0m \u001b[0melements_vector\u001b[0m\u001b[0;34m[\u001b[0m\u001b[0mi\u001b[0m\u001b[0;34m]\u001b[0m \u001b[0;34m<=\u001b[0m \u001b[0mlower_bound\u001b[0m\u001b[0;34m:\u001b[0m\u001b[0;34m\u001b[0m\u001b[0;34m\u001b[0m\u001b[0m\n\u001b[1;32m     67\u001b[0m               \u001b[0mclipped_state\u001b[0m\u001b[0;34m[\u001b[0m\u001b[0mi\u001b[0m\u001b[0;34m]\u001b[0m \u001b[0;34m=\u001b[0m \u001b[0;36m0\u001b[0m\u001b[0;34m\u001b[0m\u001b[0;34m\u001b[0m\u001b[0m\n\u001b[0;32m---> 68\u001b[0;31m           \u001b[0;32melif\u001b[0m \u001b[0melements_vector\u001b[0m\u001b[0;34m[\u001b[0m\u001b[0mi\u001b[0m\u001b[0;34m]\u001b[0m \u001b[0;34m>=\u001b[0m \u001b[0mupper_bound\u001b[0m\u001b[0;34m:\u001b[0m\u001b[0;34m\u001b[0m\u001b[0;34m\u001b[0m\u001b[0m\n\u001b[0m\u001b[1;32m     69\u001b[0m               \u001b[0mclipped_state\u001b[0m\u001b[0;34m[\u001b[0m\u001b[0mi\u001b[0m\u001b[0;34m]\u001b[0m \u001b[0;34m=\u001b[0m \u001b[0melements_bounds\u001b[0m\u001b[0;34m[\u001b[0m\u001b[0mi\u001b[0m\u001b[0;34m]\u001b[0m\u001b[0;34m[\u001b[0m\u001b[0;36m0\u001b[0m\u001b[0;34m]\u001b[0m \u001b[0;34m-\u001b[0m \u001b[0;36m1\u001b[0m\u001b[0;34m\u001b[0m\u001b[0;34m\u001b[0m\u001b[0m\n\u001b[1;32m     70\u001b[0m           \u001b[0;32melse\u001b[0m\u001b[0;34m:\u001b[0m\u001b[0;34m\u001b[0m\u001b[0;34m\u001b[0m\u001b[0m\n",
            "\u001b[0;31mKeyboardInterrupt\u001b[0m: "
          ]
        },
        {
          "name": "stdout",
          "output_type": "stream",
          "text": [
            "> \u001b[0;32m<ipython-input-15-b9a6768191c6>\u001b[0m(68)\u001b[0;36m__get_q_index\u001b[0;34m()\u001b[0m\n",
            "\u001b[0;32m     66 \u001b[0;31m          \u001b[0;32mif\u001b[0m \u001b[0melements_vector\u001b[0m\u001b[0;34m[\u001b[0m\u001b[0mi\u001b[0m\u001b[0;34m]\u001b[0m \u001b[0;34m<=\u001b[0m \u001b[0mlower_bound\u001b[0m\u001b[0;34m:\u001b[0m\u001b[0;34m\u001b[0m\u001b[0;34m\u001b[0m\u001b[0m\n",
            "\u001b[0m\u001b[0;32m     67 \u001b[0;31m              \u001b[0mclipped_state\u001b[0m\u001b[0;34m[\u001b[0m\u001b[0mi\u001b[0m\u001b[0;34m]\u001b[0m \u001b[0;34m=\u001b[0m \u001b[0;36m0\u001b[0m\u001b[0;34m\u001b[0m\u001b[0;34m\u001b[0m\u001b[0m\n",
            "\u001b[0m\u001b[0;32m---> 68 \u001b[0;31m          \u001b[0;32melif\u001b[0m \u001b[0melements_vector\u001b[0m\u001b[0;34m[\u001b[0m\u001b[0mi\u001b[0m\u001b[0;34m]\u001b[0m \u001b[0;34m>=\u001b[0m \u001b[0mupper_bound\u001b[0m\u001b[0;34m:\u001b[0m\u001b[0;34m\u001b[0m\u001b[0;34m\u001b[0m\u001b[0m\n",
            "\u001b[0m\u001b[0;32m     69 \u001b[0;31m              \u001b[0mclipped_state\u001b[0m\u001b[0;34m[\u001b[0m\u001b[0mi\u001b[0m\u001b[0;34m]\u001b[0m \u001b[0;34m=\u001b[0m \u001b[0melements_bounds\u001b[0m\u001b[0;34m[\u001b[0m\u001b[0mi\u001b[0m\u001b[0;34m]\u001b[0m\u001b[0;34m[\u001b[0m\u001b[0;36m0\u001b[0m\u001b[0;34m]\u001b[0m \u001b[0;34m-\u001b[0m \u001b[0;36m1\u001b[0m\u001b[0;34m\u001b[0m\u001b[0;34m\u001b[0m\u001b[0m\n",
            "\u001b[0m\u001b[0;32m     70 \u001b[0;31m          \u001b[0;32melse\u001b[0m\u001b[0;34m:\u001b[0m\u001b[0;34m\u001b[0m\u001b[0;34m\u001b[0m\u001b[0m\n",
            "\u001b[0m\n",
            "ipdb> q\n"
          ]
        }
      ],
      "source": [
        "ALPHA=0.7\n",
        "EPSILON=0.5\n",
        "GAMMA=0.98\n",
        "\n",
        "class QLearningAgent():\n",
        "    def __init__(self):\n",
        "\n",
        "        self.alpha = ALPHA\n",
        "        self.epsilon = EPSILON\n",
        "        self.gamma = GAMMA\n",
        "\n",
        "        ##q-table на каждой задачу подбирается руками исходя из логики и здравого смысла\n",
        "        actions_frame = np.array([2]).astype(int)           # подбор пространства возможных действий\n",
        "        states_frame = np.array([1, 7, 7, 10]).astype(int)   # подбор пространства возможных состояний\n",
        "\n",
        "        actions_count = np.prod(actions_frame)\n",
        "        states_count = np.prod(states_frame)\n",
        "\n",
        "        # каждая строка представляет одну из возможных комбинаций всех состояний\n",
        "        # каждый столбец представляет одну из возможных комбинаций всех действий\n",
        "        self.q_table = np.zeros((states_count, actions_count)) # zeros or ones\n",
        "        self.actions_bounds = np.array((actions_frame, np.zeros((actions_frame.size)), np.zeros((actions_frame.size)))).transpose()\n",
        "        self.states_bounds = np.array((states_frame, np.zeros((states_frame.size)), np.zeros((states_frame.size)))).transpose()\n",
        "\n",
        "        self.actions_bounds[0][1] = 0 # шаг влево\n",
        "        self.actions_bounds[0][2] = 1 # шаг вправо\n",
        "\n",
        "        self.states_bounds[0][1]=-4.8\n",
        "        self.states_bounds[0][2]=4.8\n",
        "\n",
        "        self.states_bounds[1][1]=-10\n",
        "        self.states_bounds[1][2]=10\n",
        "\n",
        "        self.states_bounds[2][1]=-0.21\n",
        "        self.states_bounds[2][2]=0.21\n",
        "\n",
        "        self.states_bounds[3][1]=-10\n",
        "        self.states_bounds[3][2]=10\n",
        "\n",
        "    def __get_actions_vector(self, action_cell_index):\n",
        "        \n",
        "        discrete_actions_vector = np.zeros((self.actions_bounds.shape[0]))\n",
        "\n",
        "        for i in reversed(range(0, discrete_actions_vector.shape[0])):\n",
        "          cell_multtiplier = 1\n",
        "          for j in range(0, i+1):\n",
        "            if (i != j):\n",
        "              cell_multtiplier*=self.actions_bounds[j][0]\n",
        "            else:\n",
        "              discrete_actions_vector[i] = float(action_cell_index) / cell_multtiplier\n",
        "              action_cell_index = action_cell_index % cell_multtiplier\n",
        "\n",
        "        permanent_actions_vector = np.zeros((self.actions_bounds.shape[0]))\n",
        "        for i in range(0, discrete_actions_vector.shape[0]):\n",
        "          permanent_actions_vector[i] = discrete_actions_vector[i] * (self.actions_bounds[i][2] - self.actions_bounds[i][1]) + self.actions_bounds[i][1]\n",
        "\n",
        "        return permanent_actions_vector\n",
        "\n",
        "\n",
        "    def __get_q_index(self, elements_vector, elements_bounds):\n",
        "      \n",
        "        clipped_state = np.zeros((elements_vector.size)).astype(int)\n",
        "\n",
        "        for i in range(0, elements_vector.shape[0]):\n",
        "          lower_bound, upper_bound = elements_bounds[i][1], elements_bounds[i][2]\n",
        "          if elements_vector[i] <= lower_bound:\n",
        "              clipped_state[i] = 0\n",
        "          elif elements_vector[i] >= upper_bound:\n",
        "              clipped_state[i] = elements_bounds[i][0] - 1\n",
        "          else:\n",
        "              clipped_state[i] = ((elements_vector[i]-lower_bound)/(upper_bound-lower_bound)) * elements_bounds[i][0]\n",
        "\n",
        "        #todo размножить эту функцию\n",
        "        cell_index = 0;\n",
        "        for i in range(0, clipped_state.shape[0]):\n",
        "          cell_multtiplier = clipped_state[i]\n",
        "          for j in range(0, i+1):\n",
        "            if (i != j):\n",
        "              cell_multtiplier*=elements_bounds[j][0]\n",
        "            else:\n",
        "              cell_index += cell_multtiplier\n",
        "\n",
        "        return cell_index\n",
        "\n",
        "\n",
        "    # Стратегия нашего агента будет заключаться в выборе лучшего действия, в соответствии с оценками  𝑄 \n",
        "    def __get_policy(self, state_cell_index):\n",
        "        \n",
        "        possible_actions_vector = self.q_table[state_cell_index] # обращение к нужному вектору возможных действий\n",
        "        \n",
        "        best_action_cell_index = int(-1)\n",
        "        for action_cell_index in range(possible_actions_vector.shape[0]):\n",
        "            if best_action_cell_index == -1:\n",
        "                best_action_cell_index = action_cell_index\n",
        "            elif self.q_table[state_cell_index][best_action_cell_index] < self.q_table[state_cell_index][action_cell_index]:\n",
        "                best_action_cell_index = action_cell_index\n",
        "\n",
        "        return best_action_cell_index\n",
        "\n",
        "\n",
        "    # Для конкретной ситуации мы будем выбирать действие, используя e-жадный подход\n",
        "    def get_action(self, state_vector):\n",
        "\n",
        "        state_cell_index = int(self.__get_q_index(state_vector, self.states_bounds)) # поиск индекса q-table ячейки с нужным состоянием\n",
        "        if np.random.random() < self.epsilon:\n",
        "            possible_actions_vector = self.q_table[state_cell_index] # обращение к нужному вектору возможных действий\n",
        "            action_cell_index = random.randint(0, possible_actions_vector.size-1)\n",
        "            # ipdb.set_trace(context=12)\n",
        "        else:\n",
        "            action_cell_index = self.__get_policy(state_cell_index)\n",
        "            \n",
        "        x = self.__get_actions_vector(action_cell_index)\n",
        "        return x\n",
        "\n",
        "\n",
        "    # Функция Q-обновления\n",
        "    def update(self, state_vector, action_vector, next_state_vector, reward):\n",
        "\n",
        "        action_cell_index = self.__get_q_index(action_vector, self.actions_bounds)\n",
        "        state_cell_index = int(self.__get_q_index(state_vector, self.states_bounds))\n",
        "        next_state_cell_index = int(self.__get_q_index(next_state_vector, self.states_bounds))\n",
        "\n",
        "        max_qvalue = self.q_table[next_state_cell_index].max()\n",
        "        qvalue = self.q_table[state_cell_index][action_cell_index]\n",
        "\n",
        "        reference_qvalue = qvalue + self.alpha*(reward + self.gamma * max_qvalue - qvalue)\n",
        "        self.q_table[state_cell_index][action_cell_index] = reference_qvalue\n",
        "        \n",
        "        self.epsilon *=0.98\n",
        "\n",
        "%pdb on\n",
        "\n",
        "\n",
        "STEPS_MAX = 200\n",
        "EPISIDES_MAX = 10000\n",
        "\n",
        "env = gym.make('CartPole-v1')\n",
        "state = env.reset()\n",
        "state\n",
        "agent = QLearningAgent()\n",
        "\n",
        "rewards = []\n",
        "for i in range(EPISIDES_MAX):\n",
        "\n",
        "    total_reward = 0.0\n",
        "    state = env.reset()\n",
        "    \n",
        "    for step in range(STEPS_MAX):\n",
        "        # выбираем действие\n",
        "        \n",
        "        action = agent.get_action(state).astype(int)# если действие дискретное, то нужно руками смкастить в инт\n",
        "        \n",
        "        next_s, reward, done, _ = env.step(action[0])# если пространство действий одномерно, то привести массив к размерности 1\n",
        "        \n",
        "        # выполняем обновление стратегии\n",
        "        agent.update(state, action, next_s, reward)\n",
        "        \n",
        "        state = next_s\n",
        "        total_reward +=reward\n",
        "        if done:\n",
        "            break\n",
        "        \n",
        "    rewards.append(total_reward)\n",
        "\n",
        "    if i % 100 == 0:\n",
        "    # print('reward {}'.format(total_reward))\n",
        "        clear_output(True)\n",
        "        print('eps =', agent.epsilon, 'mean reward =', np.mean(rewards[-100:]))\n",
        "        print(\"alpha=\", agent.alpha)\n",
        "        plt.plot(rewards)\n",
        "        plt.show()"
      ]
    }
  ],
  "metadata": {
    "colab": {
      "collapsed_sections": [],
      "toc_visible": true,
      "provenance": [],
      "authorship_tag": "ABX9TyNPefJ/4Gm/zDHTKlIMeSSm",
      "include_colab_link": true
    },
    "kernelspec": {
      "display_name": "Python 3",
      "name": "python3"
    },
    "language_info": {
      "name": "python"
    }
  },
  "nbformat": 4,
  "nbformat_minor": 0
}